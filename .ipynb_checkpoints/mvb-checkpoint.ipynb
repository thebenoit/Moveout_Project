{
 "cells": [
  {
   "cell_type": "code",
   "execution_count": 3,
   "metadata": {},
   "outputs": [
    {
     "name": "stdout",
     "output_type": "stream",
     "text": [
      "['/Users/jerrybenoit/Desktop/moveout.bot_Fb_MarketPlace', '/Library/Frameworks/Python.framework/Versions/3.12/lib/python312.zip', '/Library/Frameworks/Python.framework/Versions/3.12/lib/python3.12', '/Library/Frameworks/Python.framework/Versions/3.12/lib/python3.12/lib-dynload', '', '/Users/jerrybenoit/Library/Python/3.12/lib/python/site-packages', '/Library/Frameworks/Python.framework/Versions/3.12/lib/python3.12/site-packages']\n"
     ]
    }
   ],
   "source": [
    "import sys\n",
    "\n",
    "# Check if the path already exists in sys.path before adding it\n",
    "if '/Library/Frameworks/Python.framework/Versions/3.12/lib/python3.12/site-packages' not in sys.path:\n",
    "    #add path to system\n",
    "  sys.path.append('/Library/Frameworks/Python.framework/Versions/3.12/lib/python3.12/site-packages')\n",
    "\n",
    "print(sys.path)"
   ]
  },
  {
   "cell_type": "code",
   "execution_count": 4,
   "metadata": {},
   "outputs": [],
   "source": [
    "from splinter import Browser\n",
    "from bs4 import BeautifulSoup as soup\n",
    "import re\n",
    "import pandas as pd\n",
    "import matplotlib.pyplot as plt\n",
    "import time"
   ]
  },
  {
   "cell_type": "code",
   "execution_count": 5,
   "metadata": {},
   "outputs": [],
   "source": [
    "#Set up Splinter\n",
    "browser = Browser('chrome')\n",
    "\n",
    "# Définition de l'URL de base\n",
    "base_url = \"https://www.facebook.com/marketplace/montreal/search?\"\n"
   ]
  },
  {
   "cell_type": "code",
   "execution_count": 6,
   "metadata": {},
   "outputs": [],
   "source": [
    "# Définition des paramètres de recherche pour les appartements\n",
    "min_price = 500  # Prix minimum en dollars\n",
    "max_price = 5000  # Prix maximum en dollars\n",
    "min_bedrooms = 1  # Nombre minimum de chambres\n",
    "min_bathrooms = 1  # Nombre minimum de salles de bains\n",
    "min_sqft = 500  # Superficie minimum en pieds carrés\n",
    "max_sqft = 2000  # Superficie maximum en pieds carrés\n",
    "days_listed = 7  # Nombre de jours depuis la mise en ligne\n",
    "pets_allowed = True  # Animaux autorisés\n",
    "furnished = False  # Meublé ou non\n",
    "neighborhood = \"Montreal\"  # Quartier souhaité"
   ]
  },
  {
   "cell_type": "code",
   "execution_count": 7,
   "metadata": {},
   "outputs": [],
   "source": [
    "# Construction de l'URL complet\n",
    "url = f\"{base_url}minPrice={min_price}&maxPrice={max_price}&minBedrooms={min_bedrooms}&minBathrooms={min_bathrooms}&minSqft={min_sqft}&maxSqft={max_sqft}&daysSinceListed={days_listed}&query={neighborhood}&exact=false\"\n",
    "#&furnished={furnished}\n",
    "#&petsAllowed={pets_allowed}"
   ]
  },
  {
   "cell_type": "code",
   "execution_count": 8,
   "metadata": {},
   "outputs": [],
   "source": [
    "# Scroll down to load more results\n",
    "\n",
    "#define the number of times to scroll the page\n",
    "scroll_count = 4\n",
    "\n",
    "#Define the delay (in seconds) between each scroll\n",
    "scroll_delay = 2\n",
    "\n",
    "#Loop to perform scrolling\n",
    "for _ in range(scroll_count):\n",
    "    #Execute Javascript to scroll to the bottom of the page \n",
    "    browser.execute_script(\"window.scrollTo(0, document.body.scrollHeight);\")\n",
    "\n",
    "    time.sleep(scroll_delay)\n",
    "\n",
    "    # Parse the HTML\n",
    "html = browser.html\n",
    "# Create a BeautifulSoup object from the scraped HTML\n",
    "market_soup = soup(html, 'html.parser')\n",
    "# Check if HTML was scraped correctly\n",
    "#market_soup"
   ]
  },
  {
   "cell_type": "code",
   "execution_count": 9,
   "metadata": {},
   "outputs": [],
   "source": [
    "# End the automated browsing session\n",
    "browser.quit()"
   ]
  },
  {
   "cell_type": "code",
   "execution_count": 10,
   "metadata": {},
   "outputs": [
    {
     "name": "stdout",
     "output_type": "stream",
     "text": [
      "[]\n"
     ]
    }
   ],
   "source": [
    "#Extract all the necessary info and insert into lists\n",
    "titles_div = market_soup.find_all('span', class_=\"x1lliihq x6ikm8r x10wlt62 x1n2onr6\")\n",
    "#for loop that goes everything inside titles div\n",
    "#stripping everything that not pure text\n",
    "titles_list = [title.text.strip() for title in titles_div]\n",
    "\n",
    "prices_div = market_soup.find_all('span', class_=\"x193iq5w xeuugli x13faqbe x1vvkbs xlh3980 xvmahel x1n0sxbx x1lliihq x1s928wv xhkezso x1gmr53x x1cpjm7i x1fgarty x1943h6x x4zkp8e x3x7a5m x1lkfr7t x1lbecb7 x1s688f xzsf02u\")\n",
    "prices_list = [price.text.strip() for price in prices_div]\n",
    "\n",
    "city_div = market_soup.find_all('span', class_=\"x193iq5w xeuugli x13faqbe x1vvkbs xlh3980 xvmahel x1n0sxbx x1lliihq x1s928wv xhkezso x1gmr53x x1cpjm7i x1fgarty x1943h6x x4zkp8e x676frb x1nxh6w3 x1sibtaa xo1l8bm xi81zsa\")\n",
    "city_list = [city.text.strip() for city in city_div]\n",
    "\n",
    "urls_div = market_soup.find_all('a',class_=\"x1i10hfl xjbqb8w x1ejq31n xd10rxx x1sy0etr x17r0tee x972fbf xcfux6l x1qhh985 xm0m39n x9f619 x1ypdohk xt0psk2 xe8uvvx xdj266r x11i5rnm xat24cr x1mh8g0r xexx8yu x4uap5 x18d9i69 xkhd6sd x16tdsg8 x1hl2dhg xggy1nq x1a2a7pz x1heor9g x1lku1pv\")\n",
    "urls_list = [url.get('href') for url in urls_div]\n",
    "\n",
    "print(titles_list)"
   ]
  },
  {
   "cell_type": "code",
   "execution_count": 11,
   "metadata": {},
   "outputs": [],
   "source": [
    "appartment_list = []\n",
    "\n",
    "min_length = min(len(titles_list), len(prices_list), len(city_list), len(urls_list))\n",
    "\n",
    "for i in range(min_length):\n",
    "    room_dict = {}\n",
    "\n",
    "    title_split = titles_list[i].split()\n",
    "\n",
    "    if len(title_split) > 2:\n",
    "\n",
    "        #Extract price (assuming it's a number with optional decimal point)\n",
    "        room_dict[\"Price\"] = int(re.sub(r'[^\\d.]', '', prices_list[i]))\n",
    "        #Add city and URL directly\n",
    "        room_dict[\"City\"] = city_list[i]\n",
    "        room_dict[\"URL\"] = urls_list[i]\n",
    "        appartment_list.append(room_dict)\n",
    "\n",
    "    else:\n",
    "        continue #Skip this entry and move to the next one\n",
    "\n",
    "#print(\"     \",appartment_list,\"     \")"
   ]
  }
 ],
 "metadata": {
  "kernelspec": {
   "display_name": "Python 3",
   "language": "python",
   "name": "python3"
  },
  "language_info": {
   "codemirror_mode": {
    "name": "ipython",
    "version": 3
   },
   "file_extension": ".py",
   "mimetype": "text/x-python",
   "name": "python",
   "nbconvert_exporter": "python",
   "pygments_lexer": "ipython3",
   "version": "3.12.2"
  }
 },
 "nbformat": 4,
 "nbformat_minor": 2
}
